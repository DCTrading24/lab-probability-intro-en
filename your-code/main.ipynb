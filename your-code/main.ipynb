{
 "cells": [
  {
   "cell_type": "markdown",
   "metadata": {},
   "source": [
    "# Probability"
   ]
  },
  {
   "cell_type": "markdown",
   "metadata": {},
   "source": [
    "## Challenge 1\n",
    "There is a box with 10 white balls, 12 red balls and 8 black balls. Calculate the probability of:\n",
    "* Taking a white ball out.\n",
    "* Taking a white ball on first extraction and a black ball out on second extraction without replacing the first one.\n",
    "* Taking a white ball on first extraction and a black ball out on second extraction replacing the first one.\n",
    "* Taking 3 balls and them being all different colours."
   ]
  },
  {
   "cell_type": "code",
   "execution_count": null,
   "metadata": {},
   "outputs": [
    {
     "name": "stdout",
     "output_type": "stream",
     "text": [
      "Probability of taking a white ball: 33.33 %\n",
      "Probability of taking a white ball first and a black ball second (without replacement): 9.20 %\n",
      "Probability of taking a white ball first and a black ball second (with replacement): 8.89 %\n",
      "Probability of taking three balls of different colors: 23.65 %\n"
     ]
    }
   ],
   "source": [
    "# YOUR CODE HERE\n",
    "white_balls = 10\n",
    "red_balls = 12\n",
    "black_balls = 8\n",
    "total_balls = white_balls + red_balls + black_balls\n",
    "\n",
    "# Probability of drawing a white ball\n",
    "p_white = (white_balls / total_balls) * 100\n",
    "\n",
    "# Probability of drawing a white ball first and a black ball second without replacement\n",
    "p_white_then_black_no_replace = ((white_balls / total_balls) * (black_balls / (total_balls - 1))) * 100\n",
    "\n",
    "# Probability of drawing a white ball first and a black ball second (with replacement)\n",
    "p_white_then_black_replace = ((white_balls / total_balls) * (black_balls / total_balls)) * 100\n",
    "\n",
    "# Probability of drawing three balls of different colors\n",
    "p_diff_colors = ((white_balls / total_balls) * (red_balls / (total_balls - 1)) * (black_balls / (total_balls - 2)) \\\n",
    "               + (white_balls / total_balls) * (black_balls / (total_balls - 1)) * (red_balls / (total_balls - 2)) \\\n",
    "               + (red_balls / total_balls) * (white_balls / (total_balls - 1)) * (black_balls / (total_balls - 2)) \\\n",
    "               + (red_balls / total_balls) * (black_balls / (total_balls - 1)) * (white_balls / (total_balls - 2)) \\\n",
    "               + (black_balls / total_balls) * (white_balls / (total_balls - 1)) * (red_balls / (total_balls - 2)) \\\n",
    "               + (black_balls / total_balls) * (red_balls / (total_balls - 1)) * (white_balls / (total_balls - 2))) * 100\n",
    "\n",
    "# Print results\n",
    "print(f\"Probability of taking a white ball: {p_white:.2f} %\")\n",
    "print(f\"Probability of taking a white ball first and a black ball second (without replacement): {p_white_then_black_no_replace:.2f} %\")\n",
    "print(f\"Probability of taking a white ball first and a black ball second (with replacement): {p_white_then_black_replace:.2f} %\")\n",
    "print(f\"Probability of taking three balls of different colors: {p_diff_colors:.2f} %\")"
   ]
  },
  {
   "cell_type": "markdown",
   "metadata": {},
   "source": [
    "## Challenge 2\n",
    "\n",
    "You want to go on picnic on Saturday. You hate rain, and would know to plan your weekend. To help you make a decision, you gather the following data about rainy days:\n",
    "\n",
    "* 40% of all days are cloudy.\n",
    "* About 50% of cloudy days are rainy. \n",
    "* About 20% of non-cloudy days are rainy.\n",
    "\n",
    "What is the chance of rain during next Saturday?"
   ]
  },
  {
   "cell_type": "code",
   "execution_count": 17,
   "metadata": {},
   "outputs": [
    {
     "name": "stdout",
     "output_type": "stream",
     "text": [
      "Probability of rain on Saturday: 32.00 %\n"
     ]
    }
   ],
   "source": [
    "# YOUR CODE HERE\n",
    "p_cloudy = 0.4\n",
    "p_rain_cloudy = 0.5\n",
    "p_not_cloudy = 1 - p_cloudy  # 0.6\n",
    "p_rain_not_cloudy = 0.2\n",
    "\n",
    "# Total probability of rain\n",
    "p_rain = ((p_rain_cloudy * p_cloudy) + (p_rain_not_cloudy * p_not_cloudy)) * 100\n",
    "\n",
    "# Print result\n",
    "print(f\"Probability of rain on Saturday: {p_rain:.2f} %\")"
   ]
  },
  {
   "cell_type": "markdown",
   "metadata": {},
   "source": [
    "## Challenge 3\n",
    "\n",
    "A and B are events of a probability such that $P(A) = 0.3$, $P(B) = 0.6$ and $P(A \\cap B) = 0.1$\n",
    "\n",
    "Which of the following statements are true?  \n",
    "**HINT: draw a big Venn Diagram by your side**  \n",
    "* $P(\\overline{A}) = 0.7$\n",
    "* $P(A \\cup B) = 0.6$\n",
    "* $P(A \\cap \\overline{B}) = 0.2$\n",
    "* $P(A \\cup \\overline{A}) = 1$  \n",
    "* $P(A \\cap (B \\cup \\overline{B})) = 0.4$\n",
    "* $P(\\overline{A} \\cap \\overline{B}) = 0.3$\n",
    "* $P(\\overline{A \\cap B}) = 0.9$"
   ]
  },
  {
   "cell_type": "code",
   "execution_count": null,
   "metadata": {},
   "outputs": [],
   "source": [
    "# YOUR CODE HERE"
   ]
  },
  {
   "cell_type": "markdown",
   "metadata": {},
   "source": [
    "## Challenge 4\n",
    "\n",
    " * If someone flies to China, the probability of getting Covid is 1%  \n",
    " * If someone flies to Italy, the probability of getting Covid is 20%  \n",
    "\n",
    "I roll 1 dice with numbers 1, 2, 3, 4, 5, 6:  \n",
    " * If 1: I fly to Italy\n",
    " * If not 1: I fly to China\n",
    "\n",
    "During my trip, I got Covid. What is the probability that I flew to China?"
   ]
  },
  {
   "cell_type": "code",
   "execution_count": 23,
   "metadata": {},
   "outputs": [
    {
     "name": "stdout",
     "output_type": "stream",
     "text": [
      "Probability that I flew to China given I got Covid: 20.00 %\n"
     ]
    }
   ],
   "source": [
    "# YOUR CODE HERE\n",
    "p_china = 5/6\n",
    "p_italy = 1/6\n",
    "p_covid_china = 0.01\n",
    "p_covid_italy = 0.20\n",
    "\n",
    "# Total probability of getting Covid\n",
    "p_covid = (p_covid_china * p_china) + (p_covid_italy * p_italy)\n",
    "p_covid\n",
    "\n",
    "# Bayes' theorem: Probability that I went to China given that I got Covid\n",
    "p_china_because_covid = ((p_covid_china * p_china) / p_covid) * 100\n",
    "\n",
    "# Print result\n",
    "print(f\"Probability that I flew to China given I got Covid: {p_china_because_covid:.2f} %\")"
   ]
  },
  {
   "cell_type": "markdown",
   "metadata": {},
   "source": [
    "## BONUS\n",
    "\n",
    "You roll 2 dice. What is the probability that the sum of the numbers is 7? And 8? And 9? Then simulate 10000 times and draw a countplot."
   ]
  },
  {
   "cell_type": "markdown",
   "metadata": {},
   "source": [
    "your explanation here"
   ]
  },
  {
   "cell_type": "code",
   "execution_count": null,
   "metadata": {},
   "outputs": [],
   "source": [
    "# YOUR CODE HERE"
   ]
  }
 ],
 "metadata": {
  "kernelspec": {
   "display_name": "base",
   "language": "python",
   "name": "python3"
  },
  "language_info": {
   "codemirror_mode": {
    "name": "ipython",
    "version": 3
   },
   "file_extension": ".py",
   "mimetype": "text/x-python",
   "name": "python",
   "nbconvert_exporter": "python",
   "pygments_lexer": "ipython3",
   "version": "3.12.7"
  },
  "toc": {
   "base_numbering": 1,
   "nav_menu": {},
   "number_sections": false,
   "sideBar": true,
   "skip_h1_title": false,
   "title_cell": "Table of Contents",
   "title_sidebar": "Contents",
   "toc_cell": false,
   "toc_position": {
    "height": "calc(100% - 180px)",
    "left": "10px",
    "top": "150px",
    "width": "296.475px"
   },
   "toc_section_display": true,
   "toc_window_display": false
  },
  "varInspector": {
   "cols": {
    "lenName": 16,
    "lenType": 16,
    "lenVar": 40
   },
   "kernels_config": {
    "python": {
     "delete_cmd_postfix": "",
     "delete_cmd_prefix": "del ",
     "library": "var_list.py",
     "varRefreshCmd": "print(var_dic_list())"
    },
    "r": {
     "delete_cmd_postfix": ") ",
     "delete_cmd_prefix": "rm(",
     "library": "var_list.r",
     "varRefreshCmd": "cat(var_dic_list()) "
    }
   },
   "types_to_exclude": [
    "module",
    "function",
    "builtin_function_or_method",
    "instance",
    "_Feature"
   ],
   "window_display": false
  }
 },
 "nbformat": 4,
 "nbformat_minor": 2
}
